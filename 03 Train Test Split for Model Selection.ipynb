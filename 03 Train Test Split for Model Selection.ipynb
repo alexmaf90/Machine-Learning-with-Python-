{
 "cells": [
  {
   "cell_type": "markdown",
   "id": "f0576f68",
   "metadata": {},
   "source": [
    "# Internet Usage prediction based on demografy data "
   ]
  },
  {
   "cell_type": "markdown",
   "id": "f922c3eb",
   "metadata": {},
   "source": [
    "### Imports"
   ]
  },
  {
   "cell_type": "code",
   "execution_count": 68,
   "id": "d81f3901",
   "metadata": {},
   "outputs": [],
   "source": [
    "import pandas as pd \n",
    "import seaborn as sns \n",
    "import matplotlib.pyplot as plt"
   ]
  },
  {
   "cell_type": "code",
   "execution_count": 69,
   "id": "9e19d006",
   "metadata": {},
   "outputs": [
    {
     "data": {
      "text/html": [
       "<div>\n",
       "<style scoped>\n",
       "    .dataframe tbody tr th:only-of-type {\n",
       "        vertical-align: middle;\n",
       "    }\n",
       "\n",
       "    .dataframe tbody tr th {\n",
       "        vertical-align: top;\n",
       "    }\n",
       "\n",
       "    .dataframe thead th {\n",
       "        text-align: right;\n",
       "    }\n",
       "</style>\n",
       "<table border=\"1\" class=\"dataframe\">\n",
       "  <thead>\n",
       "    <tr style=\"text-align: right;\">\n",
       "      <th></th>\n",
       "      <th>internet_usage</th>\n",
       "      <th>sex</th>\n",
       "      <th>age</th>\n",
       "      <th>education</th>\n",
       "    </tr>\n",
       "    <tr>\n",
       "      <th>name</th>\n",
       "      <th></th>\n",
       "      <th></th>\n",
       "      <th></th>\n",
       "      <th></th>\n",
       "    </tr>\n",
       "  </thead>\n",
       "  <tbody>\n",
       "    <tr>\n",
       "      <th>Josefina</th>\n",
       "      <td>0</td>\n",
       "      <td>Female</td>\n",
       "      <td>66</td>\n",
       "      <td>Elementary</td>\n",
       "    </tr>\n",
       "    <tr>\n",
       "      <th>Vicki</th>\n",
       "      <td>1</td>\n",
       "      <td>Male</td>\n",
       "      <td>72</td>\n",
       "      <td>Elementary</td>\n",
       "    </tr>\n",
       "    <tr>\n",
       "      <th>David</th>\n",
       "      <td>1</td>\n",
       "      <td>Male</td>\n",
       "      <td>48</td>\n",
       "      <td>University</td>\n",
       "    </tr>\n",
       "    <tr>\n",
       "      <th>Curtis</th>\n",
       "      <td>0</td>\n",
       "      <td>Male</td>\n",
       "      <td>59</td>\n",
       "      <td>PhD</td>\n",
       "    </tr>\n",
       "    <tr>\n",
       "      <th>Josephine</th>\n",
       "      <td>1</td>\n",
       "      <td>Female</td>\n",
       "      <td>44</td>\n",
       "      <td>PhD</td>\n",
       "    </tr>\n",
       "    <tr>\n",
       "      <th>Malinda</th>\n",
       "      <td>1</td>\n",
       "      <td>Female</td>\n",
       "      <td>34</td>\n",
       "      <td>PhD</td>\n",
       "    </tr>\n",
       "    <tr>\n",
       "      <th>Fern</th>\n",
       "      <td>1</td>\n",
       "      <td>Female</td>\n",
       "      <td>49</td>\n",
       "      <td>PhD</td>\n",
       "    </tr>\n",
       "    <tr>\n",
       "      <th>Sue</th>\n",
       "      <td>1</td>\n",
       "      <td>Male</td>\n",
       "      <td>43</td>\n",
       "      <td>University</td>\n",
       "    </tr>\n",
       "    <tr>\n",
       "      <th>Juanita</th>\n",
       "      <td>1</td>\n",
       "      <td>Male</td>\n",
       "      <td>23</td>\n",
       "      <td>Elementary</td>\n",
       "    </tr>\n",
       "    <tr>\n",
       "      <th>Robert</th>\n",
       "      <td>1</td>\n",
       "      <td>Male</td>\n",
       "      <td>29</td>\n",
       "      <td>Higher Level</td>\n",
       "    </tr>\n",
       "  </tbody>\n",
       "</table>\n",
       "</div>"
      ],
      "text/plain": [
       "           internet_usage     sex  age     education\n",
       "name                                                \n",
       "Josefina                0  Female   66    Elementary\n",
       "Vicki                   1    Male   72    Elementary\n",
       "David                   1    Male   48    University\n",
       "Curtis                  0    Male   59           PhD\n",
       "Josephine               1  Female   44           PhD\n",
       "Malinda                 1  Female   34           PhD\n",
       "Fern                    1  Female   49           PhD\n",
       "Sue                     1    Male   43    University\n",
       "Juanita                 1    Male   23    Elementary\n",
       "Robert                  1    Male   29  Higher Level"
      ]
     },
     "execution_count": 69,
     "metadata": {},
     "output_type": "execute_result"
    }
   ],
   "source": [
    "df_internet = pd.read_excel('https://github.com/jsulopzs/data/blob/main/internet_usage_spain.xlsx?raw=true', \n",
    "                            sheet_name=1, index_col=0)\n",
    "df_internet.head(10)"
   ]
  },
  {
   "cell_type": "code",
   "execution_count": 70,
   "id": "801eaa57",
   "metadata": {},
   "outputs": [
    {
     "data": {
      "text/plain": [
       "(2455, 4)"
      ]
     },
     "execution_count": 70,
     "metadata": {},
     "output_type": "execute_result"
    }
   ],
   "source": [
    "df_internet.shape"
   ]
  },
  {
   "cell_type": "markdown",
   "id": "ccc7fb81",
   "metadata": {},
   "source": [
    "## Data Preprocesing"
   ]
  },
  {
   "cell_type": "code",
   "execution_count": 71,
   "id": "b8c65fe8",
   "metadata": {},
   "outputs": [
    {
     "data": {
      "text/plain": [
       "internet_usage    0\n",
       "sex               0\n",
       "age               0\n",
       "education         0\n",
       "dtype: int64"
      ]
     },
     "execution_count": 71,
     "metadata": {},
     "output_type": "execute_result"
    }
   ],
   "source": [
    "df_internet.isnull().sum()"
   ]
  },
  {
   "cell_type": "code",
   "execution_count": 72,
   "id": "d0ca0396",
   "metadata": {},
   "outputs": [],
   "source": [
    "df_internet= pd.get_dummies(data = df_internet,  drop_first = True)"
   ]
  },
  {
   "cell_type": "code",
   "execution_count": 73,
   "id": "950fd9b8",
   "metadata": {},
   "outputs": [
    {
     "data": {
      "text/html": [
       "<div>\n",
       "<style scoped>\n",
       "    .dataframe tbody tr th:only-of-type {\n",
       "        vertical-align: middle;\n",
       "    }\n",
       "\n",
       "    .dataframe tbody tr th {\n",
       "        vertical-align: top;\n",
       "    }\n",
       "\n",
       "    .dataframe thead th {\n",
       "        text-align: right;\n",
       "    }\n",
       "</style>\n",
       "<table border=\"1\" class=\"dataframe\">\n",
       "  <thead>\n",
       "    <tr style=\"text-align: right;\">\n",
       "      <th></th>\n",
       "      <th>internet_usage</th>\n",
       "      <th>age</th>\n",
       "      <th>sex_Male</th>\n",
       "      <th>education_High School</th>\n",
       "      <th>education_Higher Level</th>\n",
       "      <th>education_No studies</th>\n",
       "      <th>education_PhD</th>\n",
       "      <th>education_University</th>\n",
       "    </tr>\n",
       "    <tr>\n",
       "      <th>name</th>\n",
       "      <th></th>\n",
       "      <th></th>\n",
       "      <th></th>\n",
       "      <th></th>\n",
       "      <th></th>\n",
       "      <th></th>\n",
       "      <th></th>\n",
       "      <th></th>\n",
       "    </tr>\n",
       "  </thead>\n",
       "  <tbody>\n",
       "    <tr>\n",
       "      <th>Josefina</th>\n",
       "      <td>0</td>\n",
       "      <td>66</td>\n",
       "      <td>0</td>\n",
       "      <td>0</td>\n",
       "      <td>0</td>\n",
       "      <td>0</td>\n",
       "      <td>0</td>\n",
       "      <td>0</td>\n",
       "    </tr>\n",
       "    <tr>\n",
       "      <th>Vicki</th>\n",
       "      <td>1</td>\n",
       "      <td>72</td>\n",
       "      <td>1</td>\n",
       "      <td>0</td>\n",
       "      <td>0</td>\n",
       "      <td>0</td>\n",
       "      <td>0</td>\n",
       "      <td>0</td>\n",
       "    </tr>\n",
       "    <tr>\n",
       "      <th>David</th>\n",
       "      <td>1</td>\n",
       "      <td>48</td>\n",
       "      <td>1</td>\n",
       "      <td>0</td>\n",
       "      <td>0</td>\n",
       "      <td>0</td>\n",
       "      <td>0</td>\n",
       "      <td>1</td>\n",
       "    </tr>\n",
       "    <tr>\n",
       "      <th>Curtis</th>\n",
       "      <td>0</td>\n",
       "      <td>59</td>\n",
       "      <td>1</td>\n",
       "      <td>0</td>\n",
       "      <td>0</td>\n",
       "      <td>0</td>\n",
       "      <td>1</td>\n",
       "      <td>0</td>\n",
       "    </tr>\n",
       "    <tr>\n",
       "      <th>Josephine</th>\n",
       "      <td>1</td>\n",
       "      <td>44</td>\n",
       "      <td>0</td>\n",
       "      <td>0</td>\n",
       "      <td>0</td>\n",
       "      <td>0</td>\n",
       "      <td>1</td>\n",
       "      <td>0</td>\n",
       "    </tr>\n",
       "    <tr>\n",
       "      <th>Malinda</th>\n",
       "      <td>1</td>\n",
       "      <td>34</td>\n",
       "      <td>0</td>\n",
       "      <td>0</td>\n",
       "      <td>0</td>\n",
       "      <td>0</td>\n",
       "      <td>1</td>\n",
       "      <td>0</td>\n",
       "    </tr>\n",
       "    <tr>\n",
       "      <th>Fern</th>\n",
       "      <td>1</td>\n",
       "      <td>49</td>\n",
       "      <td>0</td>\n",
       "      <td>0</td>\n",
       "      <td>0</td>\n",
       "      <td>0</td>\n",
       "      <td>1</td>\n",
       "      <td>0</td>\n",
       "    </tr>\n",
       "    <tr>\n",
       "      <th>Sue</th>\n",
       "      <td>1</td>\n",
       "      <td>43</td>\n",
       "      <td>1</td>\n",
       "      <td>0</td>\n",
       "      <td>0</td>\n",
       "      <td>0</td>\n",
       "      <td>0</td>\n",
       "      <td>1</td>\n",
       "    </tr>\n",
       "    <tr>\n",
       "      <th>Juanita</th>\n",
       "      <td>1</td>\n",
       "      <td>23</td>\n",
       "      <td>1</td>\n",
       "      <td>0</td>\n",
       "      <td>0</td>\n",
       "      <td>0</td>\n",
       "      <td>0</td>\n",
       "      <td>0</td>\n",
       "    </tr>\n",
       "    <tr>\n",
       "      <th>Robert</th>\n",
       "      <td>1</td>\n",
       "      <td>29</td>\n",
       "      <td>1</td>\n",
       "      <td>0</td>\n",
       "      <td>1</td>\n",
       "      <td>0</td>\n",
       "      <td>0</td>\n",
       "      <td>0</td>\n",
       "    </tr>\n",
       "  </tbody>\n",
       "</table>\n",
       "</div>"
      ],
      "text/plain": [
       "           internet_usage  age  sex_Male  education_High School  \\\n",
       "name                                                              \n",
       "Josefina                0   66         0                      0   \n",
       "Vicki                   1   72         1                      0   \n",
       "David                   1   48         1                      0   \n",
       "Curtis                  0   59         1                      0   \n",
       "Josephine               1   44         0                      0   \n",
       "Malinda                 1   34         0                      0   \n",
       "Fern                    1   49         0                      0   \n",
       "Sue                     1   43         1                      0   \n",
       "Juanita                 1   23         1                      0   \n",
       "Robert                  1   29         1                      0   \n",
       "\n",
       "           education_Higher Level  education_No studies  education_PhD  \\\n",
       "name                                                                     \n",
       "Josefina                        0                     0              0   \n",
       "Vicki                           0                     0              0   \n",
       "David                           0                     0              0   \n",
       "Curtis                          0                     0              1   \n",
       "Josephine                       0                     0              1   \n",
       "Malinda                         0                     0              1   \n",
       "Fern                            0                     0              1   \n",
       "Sue                             0                     0              0   \n",
       "Juanita                         0                     0              0   \n",
       "Robert                          1                     0              0   \n",
       "\n",
       "           education_University  \n",
       "name                             \n",
       "Josefina                      0  \n",
       "Vicki                         0  \n",
       "David                         1  \n",
       "Curtis                        0  \n",
       "Josephine                     0  \n",
       "Malinda                       0  \n",
       "Fern                          0  \n",
       "Sue                           1  \n",
       "Juanita                       0  \n",
       "Robert                        0  "
      ]
     },
     "execution_count": 73,
     "metadata": {},
     "output_type": "execute_result"
    }
   ],
   "source": [
    "df_internet.head(10)"
   ]
  },
  {
   "cell_type": "code",
   "execution_count": 74,
   "id": "2f03a283",
   "metadata": {},
   "outputs": [],
   "source": [
    "target = df_internet.internet_usage\n",
    "features = df_internet.drop(columns = \"internet_usage\")"
   ]
  },
  {
   "cell_type": "markdown",
   "id": "9c9a554c",
   "metadata": {},
   "source": [
    "# Models "
   ]
  },
  {
   "cell_type": "code",
   "execution_count": 75,
   "id": "e4d0b625",
   "metadata": {},
   "outputs": [],
   "source": [
    "# Imports \n",
    "from sklearn.tree import DecisionTreeClassifier\n",
    "from sklearn.svm import SVC\n",
    "from sklearn.linear_model import LogisticRegression"
   ]
  },
  {
   "cell_type": "code",
   "execution_count": 76,
   "id": "2dd81b56",
   "metadata": {},
   "outputs": [],
   "source": [
    "model_dt = DecisionTreeClassifier()\n",
    "model_sv = SVC(probability=True)\n",
    "model_lr = LogisticRegression(max_iter=1000)"
   ]
  },
  {
   "cell_type": "code",
   "execution_count": 77,
   "id": "89c5d82d",
   "metadata": {},
   "outputs": [],
   "source": [
    "def calculate_score(model): \n",
    "    model.fit(X= features, y = target)\n",
    "    result = model.score(X= features, y = target)\n",
    "    return result"
   ]
  },
  {
   "cell_type": "code",
   "execution_count": 78,
   "id": "b4b837af",
   "metadata": {},
   "outputs": [],
   "source": [
    "dict_score = {}\n",
    "dict_score[\"Decision Tree\"] = calculate_score(model_dt)\n",
    "dict_score[\"SVC\"] = calculate_score(model_sv)\n",
    "dict_score[\"Logistic Regression\"] = calculate_score(model_lr)"
   ]
  },
  {
   "cell_type": "code",
   "execution_count": 79,
   "id": "66f80247",
   "metadata": {},
   "outputs": [
    {
     "data": {
      "text/plain": [
       "Decision Tree          0.859878\n",
       "Logistic Regression    0.833401\n",
       "SVC                    0.783707\n",
       "dtype: float64"
      ]
     },
     "execution_count": 79,
     "metadata": {},
     "output_type": "execute_result"
    }
   ],
   "source": [
    "model_accuracy = pd.Series(dict_score).sort_values(ascending = False)\n",
    "model_accuracy"
   ]
  },
  {
   "cell_type": "markdown",
   "id": "1a8611cd",
   "metadata": {},
   "source": [
    "The decision tree is the best model with an socre of 85%\n",
    "We have calculated the models accuracy using the same data to train the model. \n",
    "We need to separate the data between training and test to avoid overfitting. \n",
    "So we will separate the data into 70% for trining and the remaining 30% for testing "
   ]
  },
  {
   "cell_type": "markdown",
   "id": "54b04c16",
   "metadata": {},
   "source": [
    "### Train and Test data "
   ]
  },
  {
   "cell_type": "code",
   "execution_count": 102,
   "id": "ae7728b0",
   "metadata": {},
   "outputs": [],
   "source": [
    "from sklearn.model_selection import train_test_split\n"
   ]
  },
  {
   "cell_type": "code",
   "execution_count": 103,
   "id": "18d9d342",
   "metadata": {},
   "outputs": [],
   "source": [
    "X_train, X_test, y_train, y_test = train_test_split(\n",
    "    features, target, test_size=0.30, random_state=42)"
   ]
  },
  {
   "cell_type": "code",
   "execution_count": 104,
   "id": "6f7759f3",
   "metadata": {},
   "outputs": [],
   "source": [
    "def calculate_score_test(model):\n",
    "\n",
    "    model.fit(X_train, y_train)\n",
    "    result = model.score(X_test, y_test)\n",
    "\n",
    "    return result\n"
   ]
  },
  {
   "cell_type": "code",
   "execution_count": 107,
   "id": "a957190a",
   "metadata": {},
   "outputs": [],
   "source": [
    "dict_score_test = {}\n",
    "dict_score_test[\"Decision Tree\"] = calculate_score_test(model_dt)\n",
    "dict_score_test[\"SVC\"] = calculate_score_test(model_sv)\n",
    "dict_score_test[\"Logistic Regression\"] = calculate_score_test(model_lr)"
   ]
  },
  {
   "cell_type": "code",
   "execution_count": 108,
   "id": "ee9287bb",
   "metadata": {},
   "outputs": [
    {
     "data": {
      "text/plain": [
       "{'Decision Tree': 0.8046132971506106,\n",
       " 'SVC': 0.7788331071913162,\n",
       " 'Logistic Regression': 0.8548168249660787}"
      ]
     },
     "execution_count": 108,
     "metadata": {},
     "output_type": "execute_result"
    }
   ],
   "source": [
    "dict_score_test"
   ]
  },
  {
   "cell_type": "code",
   "execution_count": 110,
   "id": "8062f694",
   "metadata": {},
   "outputs": [
    {
     "data": {
      "text/plain": [
       "Logistic Regression    0.854817\n",
       "Decision Tree          0.804613\n",
       "SVC                    0.778833\n",
       "dtype: float64"
      ]
     },
     "execution_count": 110,
     "metadata": {},
     "output_type": "execute_result"
    }
   ],
   "source": [
    "model_accuracy_test = pd.Series(dict_score_test).sort_values(ascending = False)\n",
    "model_accuracy_test"
   ]
  },
  {
   "cell_type": "code",
   "execution_count": 112,
   "id": "6d712ee8",
   "metadata": {},
   "outputs": [
    {
     "data": {
      "text/html": [
       "<div>\n",
       "<style scoped>\n",
       "    .dataframe tbody tr th:only-of-type {\n",
       "        vertical-align: middle;\n",
       "    }\n",
       "\n",
       "    .dataframe tbody tr th {\n",
       "        vertical-align: top;\n",
       "    }\n",
       "\n",
       "    .dataframe thead th {\n",
       "        text-align: right;\n",
       "    }\n",
       "</style>\n",
       "<table border=\"1\" class=\"dataframe\">\n",
       "  <thead>\n",
       "    <tr style=\"text-align: right;\">\n",
       "      <th></th>\n",
       "      <th>Same Data</th>\n",
       "      <th>Test Data</th>\n",
       "    </tr>\n",
       "  </thead>\n",
       "  <tbody>\n",
       "    <tr>\n",
       "      <th>Decision Tree</th>\n",
       "      <td>0.859878</td>\n",
       "      <td>0.804613</td>\n",
       "    </tr>\n",
       "    <tr>\n",
       "      <th>Logistic Regression</th>\n",
       "      <td>0.833401</td>\n",
       "      <td>0.854817</td>\n",
       "    </tr>\n",
       "    <tr>\n",
       "      <th>SVC</th>\n",
       "      <td>0.783707</td>\n",
       "      <td>0.778833</td>\n",
       "    </tr>\n",
       "  </tbody>\n",
       "</table>\n",
       "</div>"
      ],
      "text/plain": [
       "                     Same Data  Test Data\n",
       "Decision Tree         0.859878   0.804613\n",
       "Logistic Regression   0.833401   0.854817\n",
       "SVC                   0.783707   0.778833"
      ]
     },
     "execution_count": 112,
     "metadata": {},
     "output_type": "execute_result"
    }
   ],
   "source": [
    "df_score = pd.DataFrame({\"Same Data\": model_accuracy, \n",
    "                         \"Test Data\": model_accuracy_test})\n",
    "df_score"
   ]
  },
  {
   "cell_type": "markdown",
   "id": "f3e455d6",
   "metadata": {},
   "source": [
    "The best model to predict the use of internet based on the existing data is logistic regression with 85% accuracy"
   ]
  },
  {
   "cell_type": "code",
   "execution_count": null,
   "id": "fab2f6db",
   "metadata": {},
   "outputs": [],
   "source": []
  },
  {
   "cell_type": "code",
   "execution_count": null,
   "id": "f5724db9",
   "metadata": {},
   "outputs": [],
   "source": []
  },
  {
   "cell_type": "code",
   "execution_count": null,
   "id": "15d9c564",
   "metadata": {},
   "outputs": [],
   "source": []
  }
 ],
 "metadata": {
  "kernelspec": {
   "display_name": "Python 3 (ipykernel)",
   "language": "python",
   "name": "python3"
  },
  "language_info": {
   "codemirror_mode": {
    "name": "ipython",
    "version": 3
   },
   "file_extension": ".py",
   "mimetype": "text/x-python",
   "name": "python",
   "nbconvert_exporter": "python",
   "pygments_lexer": "ipython3",
   "version": "3.9.12"
  }
 },
 "nbformat": 4,
 "nbformat_minor": 5
}
